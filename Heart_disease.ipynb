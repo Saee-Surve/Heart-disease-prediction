{
 "cells": [
  {
   "cell_type": "code",
   "execution_count": 5,
   "id": "ba280d73-73ff-41ab-9c4b-7b62160cd559",
   "metadata": {},
   "outputs": [],
   "source": [
    "import numpy as np\n",
    "import pandas as pd\n",
    "from sklearn.model_selection import train_test_split\n",
    "from sklearn.linear_model import LogisticRegression\n",
    "from sklearn.metrics import accuracy_score, confusion_matrix, classification_report\n",
    "import matplotlib.pyplot as plt"
   ]
  },
  {
   "cell_type": "code",
   "execution_count": 6,
   "id": "379f84d6-de75-42d0-b308-24e3643697d4",
   "metadata": {},
   "outputs": [],
   "source": [
    "datas = pd.read_csv(\"Heart_Disease_Prediction.csv\")"
   ]
  },
  {
   "cell_type": "code",
   "execution_count": 7,
   "id": "1f869404-34a4-4ceb-91b0-4ad939250ff7",
   "metadata": {},
   "outputs": [],
   "source": [
    "x = datas.drop(['Heart Disease'], axis=1)\n",
    "y = datas['Heart Disease']"
   ]
  },
  {
   "cell_type": "code",
   "execution_count": 8,
   "id": "2c7bcc90-ae51-4158-8fbf-d9d5cbaae9ee",
   "metadata": {},
   "outputs": [],
   "source": [
    "x_train,x_test,y_train,y_test=train_test_split(x,y,test_size=0.2)\n",
    "model = LogisticRegression(max_iter=2000)\n",
    "model.fit(x_train,y_train)\n",
    "y_pred = model.predict(x_test)"
   ]
  },
  {
   "cell_type": "code",
   "execution_count": 9,
   "id": "413b5e6e-a6af-441d-8c50-16200618a37e",
   "metadata": {},
   "outputs": [
    {
     "name": "stdout",
     "output_type": "stream",
     "text": [
      "Accuracy is :  0.9259259259259259\n"
     ]
    }
   ],
   "source": [
    "accuracy = accuracy_score(y_test,y_pred)\n",
    "print(\"Accuracy is : \",accuracy)"
   ]
  },
  {
   "cell_type": "code",
   "execution_count": 10,
   "id": "0a3606d6-8221-4288-a20b-da30536be0a7",
   "metadata": {},
   "outputs": [
    {
     "name": "stdout",
     "output_type": "stream",
     "text": [
      "confusion matrix is : \n",
      "[[36  3]\n",
      " [ 1 14]]\n"
     ]
    }
   ],
   "source": [
    "confusion_mat=confusion_matrix(y_test,y_pred)\n",
    "print(\"confusion matrix is : \")\n",
    "print(confusion_mat)"
   ]
  },
  {
   "cell_type": "code",
   "execution_count": 11,
   "id": "fa04f09e-bd5a-40ea-a30e-e5b02b319007",
   "metadata": {},
   "outputs": [
    {
     "name": "stdout",
     "output_type": "stream",
     "text": [
      "              precision    recall  f1-score   support\n",
      "\n",
      "     Absence       0.97      0.92      0.95        39\n",
      "    Presence       0.82      0.93      0.88        15\n",
      "\n",
      "    accuracy                           0.93        54\n",
      "   macro avg       0.90      0.93      0.91        54\n",
      "weighted avg       0.93      0.93      0.93        54\n",
      "\n"
     ]
    }
   ],
   "source": [
    "classification_rep = classification_report(y_test,y_pred)\n",
    "print(classification_rep)"
   ]
  },
  {
   "cell_type": "code",
   "execution_count": null,
   "id": "2eea5e41-3f15-4b59-bcc6-9026ba26756a",
   "metadata": {},
   "outputs": [],
   "source": []
  }
 ],
 "metadata": {
  "kernelspec": {
   "display_name": "Python 3 (ipykernel)",
   "language": "python",
   "name": "python3"
  },
  "language_info": {
   "codemirror_mode": {
    "name": "ipython",
    "version": 3
   },
   "file_extension": ".py",
   "mimetype": "text/x-python",
   "name": "python",
   "nbconvert_exporter": "python",
   "pygments_lexer": "ipython3",
   "version": "3.12.3"
  },
  "widgets": {
   "application/vnd.jupyter.widget-state+json": {
    "state": {},
    "version_major": 2,
    "version_minor": 0
   }
  }
 },
 "nbformat": 4,
 "nbformat_minor": 5
}
